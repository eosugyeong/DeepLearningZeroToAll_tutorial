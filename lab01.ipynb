{
 "cells": [
  {
   "cell_type": "code",
   "execution_count": 4,
   "metadata": {},
   "outputs": [
    {
     "name": "stdout",
     "output_type": "stream",
     "text": [
      "b'Hello, TensorFlow!'\n"
     ]
    }
   ],
   "source": [
    "hello = tf.constant(\"Hello, TensorFlow!\") #실제론 노드 하나인 것\n",
    "sess = tf.Session() #세션을 만듦\n",
    "print(sess.run(hello)) #hello라는 노드를 실행\n",
    "#b라는 건 byte stream이다 라는 뜻"
   ]
  },
  {
   "cell_type": "code",
   "execution_count": 12,
   "metadata": {},
   "outputs": [],
   "source": [
    "node1 = tf.constant(3.0, tf.float32) #tf.float: data type\n",
    "node2 = tf.constant(4.0)\n",
    "node3 = tf.add(node1, node2) \n",
    "#node3 = node1 + node2\n",
    "#노드들은 더하기로 연결된다"
   ]
  },
  {
   "cell_type": "code",
   "execution_count": 8,
   "metadata": {},
   "outputs": [
    {
     "name": "stdout",
     "output_type": "stream",
     "text": [
      "node1: Tensor(\"Const_1:0\", shape=(), dtype=float32) node2: Tensor(\"Const_2:0\", shape=(), dtype=float32)\n",
      "node3:  Tensor(\"Add:0\", shape=(), dtype=float32)\n"
     ]
    }
   ],
   "source": [
    "print(\"node1:\", node1, \"node2:\", node2) #결과값이 출력되는 게 아님.\n",
    "print(\"node3: \", node3)"
   ]
  },
  {
   "cell_type": "code",
   "execution_count": 13,
   "metadata": {},
   "outputs": [
    {
     "name": "stdout",
     "output_type": "stream",
     "text": [
      "sess.run(node1, node2):  [3.0, 4.0]\n",
      "sess.run(node3):  7.0\n"
     ]
    },
    {
     "data": {
      "text/plain": [
       "3.0"
      ]
     },
     "execution_count": 13,
     "metadata": {},
     "output_type": "execute_result"
    }
   ],
   "source": [
    "sess = tf.Session()\n",
    "print(\"sess.run(node1, node2): \", sess.run([node1, node2]))\n",
    "#실행시키고픈 노드를 넣어줌\n",
    "print(\"sess.run(node3): \", sess.run(node3))\n",
    "#sess.run() 코드로 실행"
   ]
  },
  {
   "cell_type": "code",
   "execution_count": 6,
   "metadata": {},
   "outputs": [
    {
     "name": "stdout",
     "output_type": "stream",
     "text": [
      "7.5\n",
      "[3. 7.]\n"
     ]
    }
   ],
   "source": [
    "a = tf.placeholder(tf.float32) #실행시키는 단계에서 값을 넣어주고 싶을때 사용\n",
    "b = tf.placeholder(tf.float32) #placeholder라는 node\n",
    "adder_node = a + b\n",
    "\n",
    "print(sess.run(adder_node, feed_dict={a: 3, b: 4.5})) #feed_dict: 값을 넘겨줌\n",
    "print(sess.run(adder_node, feed_dict={a: [1,3], b: [2, 4]})) #array로 값을 넘겨줄 수 있다"
   ]
  },
  {
   "cell_type": "code",
   "execution_count": 10,
   "metadata": {},
   "outputs": [
    {
     "data": {
      "text/plain": [
       "[[[1.0, 2.0, 3.0]], [[7.0, 8.0, 9.0]]]"
      ]
     },
     "execution_count": 10,
     "metadata": {},
     "output_type": "execute_result"
    }
   ],
   "source": [
    "3 #0차원 어레이\n",
    "[1. ,2., 3.] #텐서는 기본적으로 이런 어레이임\n",
    "[[1., 2., 3.], [4., 5., 6.]] #2차원 어레이\n",
    "[[[1., 2., 3.]], [[7., 8., 9.]]] #2차원 어레이"
   ]
  },
  {
   "cell_type": "code",
   "execution_count": 11,
   "metadata": {},
   "outputs": [],
   "source": [
    "t = [[1,2,3],[4,5,6],[7,8,9]] #맨안쪽 엘리먼트(1,2,3):3, 밖은:3\n",
    "#따라서[3.3]으로 나타냄\n",
    "#data type은 tf.float32를 많이 사용함"
   ]
  }
 ],
 "metadata": {
  "kernelspec": {
   "display_name": "Python 3",
   "language": "python",
   "name": "python3"
  },
  "language_info": {
   "codemirror_mode": {
    "name": "ipython",
    "version": 3
   },
   "file_extension": ".py",
   "mimetype": "text/x-python",
   "name": "python",
   "nbconvert_exporter": "python",
   "pygments_lexer": "ipython3",
   "version": "3.7.4"
  }
 },
 "nbformat": 4,
 "nbformat_minor": 2
}
